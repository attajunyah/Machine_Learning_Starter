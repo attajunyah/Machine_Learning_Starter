{
  "cells": [
    {
      "cell_type": "markdown",
      "metadata": {
        "id": "qYZWvLtbN3S8"
      },
      "source": [
        "# Coding sigmoid with numpy "
      ]
    },
    {
      "cell_type": "markdown",
      "metadata": {
        "id": "IoF7qRdAN3TD"
      },
      "source": [
        "## Declare W, x, b"
      ]
    },
    {
      "cell_type": "code",
      "execution_count": null,
      "metadata": {
        "id": "wZc08byKN3TE"
      },
      "outputs": [],
      "source": [
        "import numpy as np"
      ]
    },
    {
      "cell_type": "code",
      "execution_count": null,
      "metadata": {
        "id": "8aKaLaeEN3TF",
        "outputId": "9ad82e5d-1ef4-4795-aa4d-e6acfe58113c"
      },
      "outputs": [
        {
          "data": {
            "text/plain": [
              "array([[ 1],\n",
              "       [-1],\n",
              "       [ 1]])"
            ]
          },
          "execution_count": 3,
          "metadata": {},
          "output_type": "execute_result"
        }
      ],
      "source": [
        "x = np.array([[1], [-1], [1]])\n",
        "x"
      ]
    },
    {
      "cell_type": "code",
      "execution_count": null,
      "metadata": {
        "id": "0aqqt6fDN3TH",
        "outputId": "db01a52c-ef97-478f-8cad-910ab82652cb"
      },
      "outputs": [
        {
          "data": {
            "text/plain": [
              "array([[-1,  1,  1],\n",
              "       [ 1, -1,  1],\n",
              "       [ 1,  1, -1],\n",
              "       [-1, -1, -1]])"
            ]
          },
          "execution_count": 4,
          "metadata": {},
          "output_type": "execute_result"
        }
      ],
      "source": [
        "W = np.array([[-1,1,1,], [1,-1,1,], [1,1,-1], [-1,-1,-1]])\n",
        "W"
      ]
    },
    {
      "cell_type": "code",
      "execution_count": null,
      "metadata": {
        "id": "PunBJ49MN3TI",
        "outputId": "f93f285c-8bbb-483e-f72f-25f5768ec7c9"
      },
      "outputs": [
        {
          "data": {
            "text/plain": [
              "array([[1.],\n",
              "       [1.],\n",
              "       [1.],\n",
              "       [1.]])"
            ]
          },
          "execution_count": 7,
          "metadata": {},
          "output_type": "execute_result"
        }
      ],
      "source": [
        "b = np.ones((4,1))\n",
        "b"
      ]
    },
    {
      "cell_type": "markdown",
      "metadata": {
        "id": "81CaZeLbN3TJ"
      },
      "source": [
        "## Forward Propagation"
      ]
    },
    {
      "cell_type": "code",
      "execution_count": null,
      "metadata": {
        "id": "zPXZXH84N3TK",
        "outputId": "173d7ba9-2d97-4de3-bf82-8aea9b08f90b"
      },
      "outputs": [
        {
          "data": {
            "text/plain": [
              "array([[0.],\n",
              "       [4.],\n",
              "       [0.],\n",
              "       [0.]])"
            ]
          },
          "execution_count": 8,
          "metadata": {},
          "output_type": "execute_result"
        }
      ],
      "source": [
        "h_bar = W.dot(x) + b\n",
        "h_bar"
      ]
    },
    {
      "cell_type": "code",
      "execution_count": null,
      "metadata": {
        "id": "WpGTFChJN3TK"
      },
      "outputs": [],
      "source": [
        "def sigmoid(x):\n",
        "    return 1.0 / (1 + np.exp(-x))"
      ]
    },
    {
      "cell_type": "code",
      "execution_count": null,
      "metadata": {
        "id": "WmuZ4ZXfN3TL",
        "outputId": "dfa21e84-1769-42fd-e7aa-0b8c6486f940"
      },
      "outputs": [
        {
          "data": {
            "text/plain": [
              "array([[0.5       ],\n",
              "       [0.98201379],\n",
              "       [0.5       ],\n",
              "       [0.5       ]])"
            ]
          },
          "execution_count": 10,
          "metadata": {},
          "output_type": "execute_result"
        }
      ],
      "source": [
        "h = sigmoid(h_bar)\n",
        "h"
      ]
    },
    {
      "cell_type": "markdown",
      "metadata": {
        "id": "po6QUyDaN3TM"
      },
      "source": [
        "## Backward Propagation"
      ]
    },
    {
      "cell_type": "code",
      "execution_count": null,
      "metadata": {
        "id": "NNNAPHfMN3TN",
        "outputId": "52a013cc-14b7-42a4-bd61-ab185720a167"
      },
      "outputs": [
        {
          "data": {
            "text/plain": [
              "array([[0.25      ],\n",
              "       [0.01766271],\n",
              "       [0.25      ],\n",
              "       [0.25      ]])"
            ]
          },
          "execution_count": 11,
          "metadata": {},
          "output_type": "execute_result"
        }
      ],
      "source": [
        "v = h * (1 - h)\n",
        "v"
      ]
    },
    {
      "cell_type": "code",
      "execution_count": null,
      "metadata": {
        "id": "MhBT6yFDN3TN",
        "outputId": "6f0a1ac2-622a-4e40-addc-1abcb249f503"
      },
      "outputs": [
        {
          "data": {
            "text/plain": [
              "array([[0.25      , 0.        , 0.        , 0.        ],\n",
              "       [0.        , 0.01766271, 0.        , 0.        ],\n",
              "       [0.        , 0.        , 0.25      , 0.        ],\n",
              "       [0.        , 0.        , 0.        , 0.25      ]])"
            ]
          },
          "execution_count": 12,
          "metadata": {},
          "output_type": "execute_result"
        }
      ],
      "source": [
        "D = np.diag(v[:, 0])\n",
        "D"
      ]
    },
    {
      "cell_type": "code",
      "execution_count": null,
      "metadata": {
        "id": "4mHWt0bkN3TO",
        "outputId": "662fe65a-e2f9-4b96-95e4-f2af620f7d1f"
      },
      "outputs": [
        {
          "data": {
            "text/plain": [
              "array([[-0.25      ,  0.25      ,  0.25      ],\n",
              "       [ 0.01766271, -0.01766271,  0.01766271],\n",
              "       [ 0.25      ,  0.25      , -0.25      ],\n",
              "       [-0.25      , -0.25      , -0.25      ]])"
            ]
          },
          "execution_count": 13,
          "metadata": {},
          "output_type": "execute_result"
        }
      ],
      "source": [
        "derivative = D.dot(W)\n",
        "derivative"
      ]
    },
    {
      "cell_type": "code",
      "execution_count": null,
      "metadata": {
        "id": "I0SjorCPN3TO"
      },
      "outputs": [],
      "source": [
        ""
      ]
    },
    {
      "cell_type": "markdown",
      "source": [
        "# Grokking Deep Learning"
      ],
      "metadata": {
        "id": "N9lUumCuOAr8"
      }
    },
    {
      "cell_type": "code",
      "source": [
        "import numpy as np\n",
        "\n",
        "weights = np.array([0.1, 0.2, 0])\n",
        "\n",
        "def neural_network(input, weights):\n",
        "  pred = input.dot(weights)\n",
        "  return pred\n",
        "\n",
        "toes = np.array([8.5, 9.5, 9.9, 9.0])\n",
        "wlrec = np.array([0.65, 0.8, 0.8, 0.9])\n",
        "nfans = np.array([1.2, 1.3, 0.5, 1.0])\n",
        "\n",
        "input = np.array([toes[0], wlrec[0], nfans[0]])\n",
        "pred = neural_network(input, weights)\n",
        "print(round(pred, 2))"
      ],
      "metadata": {
        "id": "cDCDhBcTOLdi",
        "outputId": "34ea2da4-42ee-4ed4-9634-60cad01bef3e",
        "colab": {
          "base_uri": "https://localhost:8080/"
        }
      },
      "execution_count": 2,
      "outputs": [
        {
          "output_type": "stream",
          "name": "stdout",
          "text": [
            "0.98\n"
          ]
        }
      ]
    },
    {
      "cell_type": "code",
      "source": [
        "import numpy as np \n",
        "\n",
        "a = np.array([[0, 1, 2, 3], \n",
        "              [4, 5, 6, 7]])\n",
        "\n",
        "b = np.zeros((2, 4))\n",
        "\n",
        "c = np.random.rand(2,5)\n",
        "\n",
        "print(a.shape)\n",
        "print(a)\n",
        "print(b) \n",
        "print(c)"
      ],
      "metadata": {
        "id": "gvdGL-NcPBYG",
        "outputId": "69380615-c124-45a3-8cc5-d461f4dc3ff7",
        "colab": {
          "base_uri": "https://localhost:8080/"
        }
      },
      "execution_count": 6,
      "outputs": [
        {
          "output_type": "stream",
          "name": "stdout",
          "text": [
            "(2, 4)\n",
            "[[0 1 2 3]\n",
            " [4 5 6 7]]\n",
            "[[0. 0. 0. 0.]\n",
            " [0. 0. 0. 0.]]\n",
            "[[0.27757813 0.99045142 0.90459456 0.34969381 0.92218362]\n",
            " [0.84608701 0.47134264 0.09906108 0.01254366 0.08701665]]\n"
          ]
        }
      ]
    },
    {
      "cell_type": "code",
      "source": [
        ""
      ],
      "metadata": {
        "id": "UHxxfzUERKmo"
      },
      "execution_count": null,
      "outputs": []
    }
  ],
  "metadata": {
    "kernelspec": {
      "display_name": "Python 3",
      "language": "python",
      "name": "python3"
    },
    "language_info": {
      "codemirror_mode": {
        "name": "ipython",
        "version": 3
      },
      "file_extension": ".py",
      "mimetype": "text/x-python",
      "name": "python",
      "nbconvert_exporter": "python",
      "pygments_lexer": "ipython3",
      "version": "3.8.3"
    },
    "colab": {
      "name": "Deep Learning Fundamentals.ipynb",
      "provenance": []
    }
  },
  "nbformat": 4,
  "nbformat_minor": 0
}