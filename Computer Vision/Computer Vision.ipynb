{
  "cells": [
    {
      "cell_type": "markdown",
      "metadata": {
        "id": "QWYFXOukyvFM"
      },
      "source": [
        "# The Convolutional Classifier"
      ]
    },
    {
      "cell_type": "markdown",
      "metadata": {
        "id": "NOlU7YuGyvFR"
      },
      "source": [
        "## Example - Train a Convnet Classifier "
      ]
    },
    {
      "cell_type": "code",
      "execution_count": null,
      "metadata": {
        "id": "kSoeyVSOyvFS"
      },
      "outputs": [],
      "source": [
        "# Define Pretrained Base \n",
        "import tensorflow as tf\n",
        "import pandas as pd\n",
        "import matplotlib.pyplot as plt\n",
        "\n",
        "pretrained_base = tf.keras.model.load_model('')\n",
        "pretrained_base.trainable = False\n",
        "\n",
        "# Attach Head \n",
        "from tensorflow import keras \n",
        "from tensorflow.keras import layers \n",
        "\n",
        "model = keras.Sequential([\n",
        "    pretrained_base, \n",
        "    layers.Flatten(),\n",
        "    layers.Dense(6, activation='relu'),\n",
        "    layers.Dense(1, activation='sigmoid'),\n",
        "])\n",
        "\n",
        "# Train \n",
        "model.compile(\n",
        "    optimizer='adam', \n",
        "    loss='binary_crossentropy',\n",
        "    metrics=['binary_accuracy'],\n",
        ")\n",
        "\n",
        "history = model.fit(\n",
        "    ds_train, \n",
        "    validation_data = ds_valid,\n",
        "    epochs=30, \n",
        "    verbose=0,\n",
        ")\n",
        "\n",
        "# Plot loss\n",
        "history_frame = pd.DataFrame(history.history)\n",
        "history_frame.loc[:, ['loss', 'val_loss']].plot()\n",
        "history_frame.loc[:, ['binary_accuracy', 'val_binary_accuracy']].plot()\n",
        "\n",
        "# training \n",
        "\n"
      ]
    },
    {
      "cell_type": "markdown",
      "source": [
        "The two most important types of layers that you'll usually find in the base of a convolutional image classifier. These are the **convolutional layer** with **ReLU activation**, and the **maximum pooling layer**. \n",
        "\n",
        "# **Convolutional layer with its ReLU activation function**\n",
        "Feature Extraction operations: Filter,  Detect and Condense\n",
        "\n",
        "Filter with Convolution : layers.Conv2D\n",
        "\n",
        "By setting the dimensions of the kernels with kernel_size, you are telling the convnet how to form these connections.\n",
        "\n",
        "Feature maps: images \n",
        "\n",
        "Detect with ReLU:\n",
        "\n",
        "\n",
        "\n",
        "\n",
        "\n",
        "We saw in this lesson the first two steps a convnet uses to perform feature extraction: filter with Conv2D layers and detect with relu activation.\n"
      ],
      "metadata": {
        "id": "5qys_gr470d6"
      }
    },
    {
      "cell_type": "code",
      "source": [
        "from tensorflow import keras\n",
        "from tensorflow.keras import layers\n",
        "\n",
        "model = keras.Sequential([\n",
        "    layers.Conv2D(filters=64, kernel_size=3),\n",
        "])\n",
        "\n",
        "image_filter = tf.nn.conv2d(\n",
        "    input=image,\n",
        "    filters=kernel,\n",
        "    strides=1,\n",
        "    padding='VALID',\n",
        ")\n",
        "image_detect = tf.nn.relu(image_filter)"
      ],
      "metadata": {
        "id": "4kqZLEei7rjt"
      },
      "execution_count": 2,
      "outputs": []
    }
  ],
  "metadata": {
    "kernelspec": {
      "display_name": "Python 3",
      "language": "python",
      "name": "python3"
    },
    "language_info": {
      "codemirror_mode": {
        "name": "ipython",
        "version": 3
      },
      "file_extension": ".py",
      "mimetype": "text/x-python",
      "name": "python",
      "nbconvert_exporter": "python",
      "pygments_lexer": "ipython3",
      "version": "3.8.3"
    },
    "colab": {
      "name": "Computer Vision.ipynb",
      "provenance": []
    }
  },
  "nbformat": 4,
  "nbformat_minor": 0
}